{
  "nbformat": 4,
  "nbformat_minor": 0,
  "metadata": {
    "colab": {
      "provenance": []
    },
    "kernelspec": {
      "name": "python3",
      "display_name": "Python 3"
    },
    "language_info": {
      "name": "python"
    }
  },
  "cells": [
    {
      "cell_type": "markdown",
      "source": [
        "###Hands-On Practice:Linear Algebra for AI"
      ],
      "metadata": {
        "id": "UGD4E2QdxP-K"
      }
    },
    {
      "cell_type": "markdown",
      "source": [
        "#Exercise1: Working with Scalars and Vectors"
      ],
      "metadata": {
        "id": "oLRb0p38zZI5"
      }
    },
    {
      "cell_type": "code",
      "execution_count": null,
      "metadata": {
        "id": "1uRvBI0rxDKv"
      },
      "outputs": [],
      "source": [
        "import numpy as pd\n",
        "\n",
        "scaler = 9\n",
        "print(scaler)\n",
        "\n",
        "vector = np.array([3,6,8,45,19])\n",
        "print(vector)\n",
        "\n",
        "scaled_vector = scaler * vector\n",
        "print(scaled_vector)\n",
        "\n",
        "\n",
        "vector = np.array([3,6,8,45,19])\n",
        "print(vector)\n",
        "\n",
        "scaled_vector = scaler + vector\n",
        "print(scaled_vector)"
      ]
    },
    {
      "cell_type": "markdown",
      "source": [
        "##MATRIX CREATION AND SIMPLE OPERATION"
      ],
      "metadata": {
        "id": "yIGazMel0sg-"
      }
    },
    {
      "cell_type": "code",
      "source": [
        "matix1 = np.array([[1,2], [4,5]])\n",
        "matrix2 =np.array([[2,3], [6,7]])"
      ],
      "metadata": {
        "id": "79evusic00_-"
      },
      "execution_count": null,
      "outputs": []
    },
    {
      "cell_type": "code",
      "source": [
        "matrix = np.array([[1,2,3]+])"
      ],
      "metadata": {
        "id": "d_wx9Ytd14Xl"
      },
      "execution_count": null,
      "outputs": []
    },
    {
      "cell_type": "markdown",
      "source": [],
      "metadata": {
        "id": "8cynUoWz12EV"
      }
    }
  ]
}