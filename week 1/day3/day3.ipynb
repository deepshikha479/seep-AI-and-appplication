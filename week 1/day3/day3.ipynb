{
  "nbformat": 4,
  "nbformat_minor": 0,
  "metadata": {
    "colab": {
      "provenance": []
    },
    "kernelspec": {
      "name": "python3",
      "display_name": "Python 3"
    },
    "language_info": {
      "name": "python"
    }
  },
  "cells": [
    {
      "cell_type": "markdown",
      "source": [],
      "metadata": {
        "id": "RF1SwLEm6Rw-"
      }
    },
    {
      "cell_type": "markdown",
      "source": [
        "# Import math and calculate sine of 30 degrees using math.sin(math.radians(30))\n",
        "\n"
      ],
      "metadata": {
        "id": "cwm7mxJW6Tb0"
      }
    },
    {
      "cell_type": "code",
      "source": [
        "import math\n",
        "\n",
        "result = math.sin(math.radians(30))\n",
        "print(result)\n",
        "\n"
      ],
      "metadata": {
        "colab": {
          "base_uri": "https://localhost:8080/"
        },
        "id": "9dEleDas9hlf",
        "outputId": "8c570350-8803-4a1a-d3f9-c96a94781298"
      },
      "execution_count": 1,
      "outputs": [
        {
          "output_type": "stream",
          "name": "stdout",
          "text": [
            "0.49999999999999994\n"
          ]
        }
      ]
    },
    {
      "cell_type": "markdown",
      "source": [
        "#Import random as rng and generate a random integer between 50-75\n"
      ],
      "metadata": {
        "id": "CYD5Hdem9zM7"
      }
    },
    {
      "cell_type": "code",
      "source": [
        "import random as rng\n",
        "\n",
        "random_number = rng.randint(50, 75)\n",
        "print(random_number)\n"
      ],
      "metadata": {
        "colab": {
          "base_uri": "https://localhost:8080/"
        },
        "id": "sgd0I3hP95Rm",
        "outputId": "b4a20077-d3be-4964-9599-9f34338d08dc"
      },
      "execution_count": 2,
      "outputs": [
        {
          "output_type": "stream",
          "name": "stdout",
          "text": [
            "72\n"
          ]
        }
      ]
    },
    {
      "cell_type": "markdown",
      "source": [
        "#Create calc.py with square function, import and print square of 8\n",
        "\n"
      ],
      "metadata": {
        "id": "aj3O-6o2-L_8"
      }
    },
    {
      "cell_type": "code",
      "source": [
        "# calc.py\n",
        "\n",
        "def square(x):\n",
        "    return x * x\n"
      ],
      "metadata": {
        "id": "Q4SJ6Bdq-XWf"
      },
      "execution_count": 2,
      "outputs": []
    },
    {
      "cell_type": "markdown",
      "source": [
        "#Import choice from random, pick from fruits list [\"Mango\", \"Apple\", \"Grape\"]"
      ],
      "metadata": {
        "id": "qOojMOkJ-hJa"
      }
    },
    {
      "cell_type": "code",
      "source": [
        "from random import choice\n",
        "\n",
        "fruits = [\"Mango\", \"Apple\", \"Grape\"]\n",
        "selected_fruit = choice(fruits)\n",
        "\n",
        "print(selected_fruit)\n"
      ],
      "metadata": {
        "colab": {
          "base_uri": "https://localhost:8080/"
        },
        "id": "kiRBo0KH-oIm",
        "outputId": "eb80487d-359b-4c7a-dcf7-5e772057f4ba"
      },
      "execution_count": 3,
      "outputs": [
        {
          "output_type": "stream",
          "name": "stdout",
          "text": [
            "Grape\n"
          ]
        }
      ]
    }
  ]
}