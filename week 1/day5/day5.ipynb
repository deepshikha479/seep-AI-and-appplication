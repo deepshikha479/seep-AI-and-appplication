{
  "nbformat": 4,
  "nbformat_minor": 0,
  "metadata": {
    "colab": {
      "provenance": []
    },
    "kernelspec": {
      "name": "python3",
      "display_name": "Python 3"
    },
    "language_info": {
      "name": "python"
    }
  },
  "cells": [
    {
      "cell_type": "markdown",
      "source": [
        "#Numpy Basic\n"
      ],
      "metadata": {
        "id": "cF6VmjPm4kZ8"
      }
    },
    {
      "cell_type": "markdown",
      "source": [
        "# Creating A Numpy Array and IOts Attribute"
      ],
      "metadata": {
        "id": "p3XLpkUh4q8T"
      }
    },
    {
      "cell_type": "code",
      "execution_count": 53,
      "metadata": {
        "colab": {
          "base_uri": "https://localhost:8080/"
        },
        "id": "0jdM1tSm4cgp",
        "outputId": "aa58a2ee-b8a2-4aff-aac3-96f777762ee5"
      },
      "outputs": [
        {
          "output_type": "stream",
          "name": "stdout",
          "text": [
            "[1 2 3 4 5]\n",
            "42\n",
            "[1 2 3 4 5]\n",
            "[[1 2 3]\n",
            " [4 5 6]]\n",
            "[[[ 1  2  3]\n",
            "  [ 4  5  6]]\n",
            "\n",
            " [[ 7  8  9]\n",
            "  [10 11 12]]]\n"
          ]
        }
      ],
      "source": [
        "#import numpy library\n",
        "import numpy as np\n",
        "#creating a list\n",
        "my_list = [1,2,3,4,5]\n",
        "#changing the list into a 1-D numpy array\n",
        "my_array = np.array(my_list)\n",
        "#printing the array\n",
        "print(my_array)\n",
        "\n",
        "#Creating a 0-D numpy array\n",
        "zero_array = np.array(42)\n",
        "print(zero_array)\n",
        "\n",
        "#insteaad of creating a list on seprate varaible we can directly pass that list to .array() function like this\n",
        "my_array = np.array([1,2,3,4,5])\n",
        "print(my_array)\n",
        "\n",
        "#lets create a 2-D array\n",
        "two_d_array = np.array([[1,2,3],[4,5,6]])\n",
        "print(two_d_array)\n",
        "\n",
        "#lets create a 3-D array\n",
        "three_d_array = np.array([[[1,2,3],[4,5,6]],[[7,8,9],[10,11,12]]])\n",
        "print(three_d_array)"
      ]
    },
    {
      "cell_type": "code",
      "source": [
        "#lets create an array and see its attribute\n",
        "my_array = np.array([[[1,2,3],[4,5,6],[7,8,9]]])\n",
        "print(my_array)\n",
        "print(my_array.ndim) #DIMENSION OF THE ARRAY\n",
        "print(my_array.shape) #SHAOE IF THE ARRAY\n",
        "print(my_array.dtype) #TYPE OF ARRAY\n",
        "print(my_array.size) #SIZE OF THE ARRAY\n"
      ],
      "metadata": {
        "colab": {
          "base_uri": "https://localhost:8080/"
        },
        "id": "pMndL_wc7apb",
        "outputId": "0ca0bc29-1ea6-4b64-e403-1d26100d8743"
      },
      "execution_count": null,
      "outputs": [
        {
          "output_type": "stream",
          "name": "stdout",
          "text": [
            "[[[1 2 3]\n",
            "  [4 5 6]\n",
            "  [7 8 9]]]\n",
            "3\n",
            "(1, 3, 3)\n",
            "int64\n",
            "9\n"
          ]
        }
      ]
    },
    {
      "cell_type": "markdown",
      "source": [
        "#Accessing and manupulating elements in array"
      ],
      "metadata": {
        "id": "ryZ-6rYl9tad"
      }
    },
    {
      "cell_type": "code",
      "source": [
        "#lets create a 1-D array and print one of its element\n",
        "one_arr = np.array([1,2,3,4,5,6])\n",
        "print(one_arr[4])\n",
        "\n",
        "#lets print using negative index\n",
        "print(one_arr[-3])"
      ],
      "metadata": {
        "colab": {
          "base_uri": "https://localhost:8080/"
        },
        "id": "RAmefo3D9KWl",
        "outputId": "90159414-6107-4920-e6df-2851e617eec5"
      },
      "execution_count": null,
      "outputs": [
        {
          "output_type": "stream",
          "name": "stdout",
          "text": [
            "5\n",
            "4\n"
          ]
        }
      ]
    },
    {
      "cell_type": "code",
      "source": [
        "# lets do 2D array\n",
        "two_arr = np.array([[1,2,3,4,5],[6,7,8,9,10]])\n",
        "print(two_arr[1,2])\n",
        "\n",
        "#lets do 3D array\n",
        "three_arr = np.array([[[1,2,3],[4,5,6]],[[7,8,9],[10,11,12]]])\n",
        "print(three_arr[1,0,0])\n",
        "\n",
        "#negative indexing\n",
        "print(three_arr[1,0,-1])"
      ],
      "metadata": {
        "colab": {
          "base_uri": "https://localhost:8080/"
        },
        "id": "CEH2XRef9zP2",
        "outputId": "c6f992c4-c279-4134-de7a-efb999000584"
      },
      "execution_count": null,
      "outputs": [
        {
          "output_type": "stream",
          "name": "stdout",
          "text": [
            "8\n",
            "7\n",
            "9\n"
          ]
        }
      ]
    },
    {
      "cell_type": "markdown",
      "source": [
        "#Slicing array\n",
        "#some important slicing concept\n",
        "\n",
        "#array[start:end]\n",
        "#array[start:end:steps]\n"
      ],
      "metadata": {
        "id": "6g-9XndQByni"
      }
    },
    {
      "cell_type": "code",
      "source": [
        "#slicing array from 0 to 8 index\n",
        "my_new_array = np.array([1,2,3,4,5,6,7,8,9,10])\n",
        "print(my_new_array[0:8])\n",
        "\n",
        "#slicing with steps\n",
        "print(my_new_array[0:-1:2])"
      ],
      "metadata": {
        "colab": {
          "base_uri": "https://localhost:8080/"
        },
        "id": "MFikIcUsCmlQ",
        "outputId": "19558fc7-30bc-4fee-821e-c50b53a7fff8"
      },
      "execution_count": null,
      "outputs": [
        {
          "output_type": "stream",
          "name": "stdout",
          "text": [
            "[1 2 3 4 5 6 7 8]\n",
            "[1 3 5 7 9]\n"
          ]
        }
      ]
    },
    {
      "cell_type": "code",
      "source": [
        "#slicing on a 2D array\n",
        "my_new_2D_array = np.array([[1,2,3,4,5],[6,7,8,9,10]])\n",
        "print(my_new_2D_array[0,3:5],my_new_2D_array[1,0:1])"
      ],
      "metadata": {
        "colab": {
          "base_uri": "https://localhost:8080/"
        },
        "id": "1g3qbl0HD8Sw",
        "outputId": "68f25a5d-83d8-4a73-f676-61b6a72d38c5"
      },
      "execution_count": 38,
      "outputs": [
        {
          "output_type": "stream",
          "name": "stdout",
          "text": [
            "[4 5] [6]\n"
          ]
        }
      ]
    },
    {
      "cell_type": "markdown",
      "source": [
        "# Create an array with list [7,14,21,28] and print the array"
      ],
      "metadata": {
        "id": "YM8iWjmVGL5s"
      }
    },
    {
      "cell_type": "code",
      "source": [
        "list_array = np.array([7,14,21,28])\n",
        "print(list_array)"
      ],
      "metadata": {
        "colab": {
          "base_uri": "https://localhost:8080/"
        },
        "id": "Q4KeLLppGg0G",
        "outputId": "7cfa77bd-8af1-42e1-d137-73c220a43a45"
      },
      "execution_count": 39,
      "outputs": [
        {
          "output_type": "stream",
          "name": "stdout",
          "text": [
            "[ 7 14 21 28]\n"
          ]
        }
      ]
    },
    {
      "cell_type": "markdown",
      "source": [
        "# Create a 2D array and print its shape and dimension"
      ],
      "metadata": {
        "id": "N-0SJJGtG07f"
      }
    },
    {
      "cell_type": "code",
      "source": [
        "two_d_arr = np.array([[5,10,15],[20,25,30]])\n",
        "print(two_d_arr)\n",
        "print(two_d_arr.shape)\n",
        "print(two_d_arr.ndim)"
      ],
      "metadata": {
        "colab": {
          "base_uri": "https://localhost:8080/"
        },
        "id": "czfF7k3JHBDM",
        "outputId": "f09600dd-544b-4ae0-964c-71508fced492"
      },
      "execution_count": 41,
      "outputs": [
        {
          "output_type": "stream",
          "name": "stdout",
          "text": [
            "[[ 5 10 15]\n",
            " [20 25 30]]\n",
            "(2, 3)\n",
            "2\n"
          ]
        }
      ]
    },
    {
      "cell_type": "markdown",
      "source": [],
      "metadata": {
        "id": "xhyGMJuqHiNJ"
      }
    },
    {
      "cell_type": "code",
      "source": [
        "print(np.zeros((2,3)))\n",
        "print(np.arange(0,12,3))"
      ],
      "metadata": {
        "colab": {
          "base_uri": "https://localhost:8080/"
        },
        "id": "iSML0uSvHpXi",
        "outputId": "793d6317-7686-4749-eafd-a16010f44f23"
      },
      "execution_count": 50,
      "outputs": [
        {
          "output_type": "stream",
          "name": "stdout",
          "text": [
            "[[0. 0. 0.]\n",
            " [0. 0. 0.]]\n",
            "[0 3 6 9]\n"
          ]
        }
      ]
    },
    {
      "cell_type": "markdown",
      "source": [],
      "metadata": {
        "id": "9Q9ci9X4KcRV"
      }
    },
    {
      "cell_type": "code",
      "source": [
        "my_list = np.array([2,4,6,8])\n",
        "\n"
      ],
      "metadata": {
        "id": "PWrF92SPMa98"
      },
      "execution_count": null,
      "outputs": []
    }
  ]
}