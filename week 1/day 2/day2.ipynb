{
  "nbformat": 4,
  "nbformat_minor": 0,
  "metadata": {
    "colab": {
      "provenance": []
    },
    "kernelspec": {
      "name": "python3",
      "display_name": "Python 3"
    },
    "language_info": {
      "name": "python"
    }
  },
  "cells": [
    {
      "cell_type": "markdown",
      "source": [
        "# Day-1 Coding\n"
      ],
      "metadata": {
        "id": "wVLwUP3WsOWG"
      }
    },
    {
      "cell_type": "markdown",
      "source": [],
      "metadata": {
        "id": "Kwr9vQwusncQ"
      }
    },
    {
      "cell_type": "code",
      "execution_count": 1,
      "metadata": {
        "id": "FczSNvedrV-s",
        "colab": {
          "base_uri": "https://localhost:8080/"
        },
        "outputId": "8af0c7e9-1933-4d08-81cb-314292408d4a"
      },
      "outputs": [
        {
          "output_type": "stream",
          "name": "stdout",
          "text": [
            "This is me deepshika\n"
          ]
        }
      ],
      "source": [
        "print(\"This is me deepshika\")"
      ]
    },
    {
      "cell_type": "markdown",
      "source": [
        "LOOPS IN PYTHON"
      ],
      "metadata": {
        "id": "Vekw5ozvt-By"
      }
    },
    {
      "cell_type": "code",
      "source": [
        "for i in range(1,11):\n",
        "    print(i*i*i)"
      ],
      "metadata": {
        "colab": {
          "base_uri": "https://localhost:8080/"
        },
        "id": "DmmDY8phuJDp",
        "outputId": "622b2928-fd8c-4b8f-f977-a2b3715740db"
      },
      "execution_count": 7,
      "outputs": [
        {
          "output_type": "stream",
          "name": "stdout",
          "text": [
            "1\n",
            "8\n",
            "27\n",
            "64\n",
            "125\n",
            "216\n",
            "343\n",
            "512\n",
            "729\n",
            "1000\n"
          ]
        }
      ]
    },
    {
      "cell_type": "markdown",
      "source": [
        "FUNCTIONS IN PYTHON"
      ],
      "metadata": {
        "id": "gQs7-YSuuv9v"
      }
    },
    {
      "cell_type": "code",
      "source": [
        "# Declaring function to calculate square of a number\n",
        "def calculate_square(length):\n",
        "  return length * length\n",
        "\n",
        "  #Calling a function to print square of first square\n",
        "print(\"The area of first square is:\",calculate_square(6))\n",
        "print(\"The area of first square is:\",calculate_square(16))\n"
      ],
      "metadata": {
        "colab": {
          "base_uri": "https://localhost:8080/"
        },
        "id": "bM-nwJKluvHF",
        "outputId": "f69cf021-79d2-4d6b-b8d0-287733b3968a"
      },
      "execution_count": 18,
      "outputs": [
        {
          "output_type": "stream",
          "name": "stdout",
          "text": [
            "The area of first square is: 36\n",
            "The area of first square is: 256\n"
          ]
        }
      ]
    },
    {
      "cell_type": "markdown",
      "source": [
        "HOMEWORK:FILE AREA OF CIRCLE\n"
      ],
      "metadata": {
        "id": "LtQ21sd0wmoA"
      }
    },
    {
      "cell_type": "markdown",
      "source": [
        "LISTS IN PYTHON"
      ],
      "metadata": {
        "id": "zQjhGRGswsdo"
      }
    },
    {
      "cell_type": "code",
      "source": [
        "# write comments here\n",
        "fruits = [\"apple\",\"banana\", \"mango\",\"litch\",\"watermelon\"]\n",
        "print(fruits)\n",
        "\n",
        "#Accessing elements from the list\n",
        "# print(fruits[0]) #first index\n",
        "# print(fruits[-1])\n",
        "# print(fruits[4])\n",
        "# #Adding and removing elements from the list\n",
        "# print(fruits[2])\n",
        "fruits.append(\"pineapple\")\n",
        "print(fruits)\n",
        "\n",
        "fruits.remove(\"mango\")\n",
        "print(fruits)"
      ],
      "metadata": {
        "colab": {
          "base_uri": "https://localhost:8080/"
        },
        "id": "Vz1BjXKCwxNZ",
        "outputId": "7a1b2a87-2cef-4fa4-9095-1b2491b70ccb"
      },
      "execution_count": 23,
      "outputs": [
        {
          "output_type": "stream",
          "name": "stdout",
          "text": [
            "['apple', 'banana', 'mango', 'litch', 'watermelon']\n",
            "['apple', 'banana', 'mango', 'litch', 'watermelon', 'pineapple']\n",
            "['apple', 'banana', 'litch', 'watermelon', 'pineapple']\n"
          ]
        }
      ]
    },
    {
      "cell_type": "markdown",
      "source": [
        "#Sets and tuples(Home-research)"
      ],
      "metadata": {
        "id": "spXsDDnTyk1X"
      }
    },
    {
      "cell_type": "markdown",
      "source": [
        "DICTIONARY IN PYTHON"
      ],
      "metadata": {
        "id": "3xmsYdQyysoa"
      }
    },
    {
      "cell_type": "code",
      "source": [
        "student = {\n",
        "    \"name\" : \"Deepshikha\",\n",
        "    \"class\" : 13,\n",
        "    \"gender\" : \"male\"\n",
        "}\n",
        "#Accessing values from keys in a dictionary\n",
        "print(student [\"name\"])\n",
        "print(student[\"class\"])\n",
        "\n",
        "#Update values of a particular key in a dictionary\n",
        "student[\"gender\"] = \"female\"\n",
        "print(student)\n",
        "\n",
        "#Adding a new key-value pair into the existing dictionary\n",
        "student[\"roll_no\"] =13\n",
        "print(student)\n",
        "\n",
        "#Deleting a key-value pair into the existing dictionary\n",
        "del student[\"class\"]\n",
        "print(student)"
      ],
      "metadata": {
        "colab": {
          "base_uri": "https://localhost:8080/"
        },
        "id": "1Q5UZGWQyxED",
        "outputId": "953eaad6-7e97-4e39-eaf2-8c71f015a7e4"
      },
      "execution_count": 29,
      "outputs": [
        {
          "output_type": "stream",
          "name": "stdout",
          "text": [
            "Deepshikha\n",
            "13\n",
            "{'name': 'Deepshikha', 'class': 13, 'gender': 'female'}\n",
            "{'name': 'Deepshikha', 'class': 13, 'gender': 'female', 'roll_no': 13}\n",
            "{'name': 'Deepshikha', 'gender': 'female', 'roll_no': 13}\n"
          ]
        }
      ]
    }
  ]
}