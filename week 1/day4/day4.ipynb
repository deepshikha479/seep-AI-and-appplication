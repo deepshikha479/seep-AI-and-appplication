{
  "nbformat": 4,
  "nbformat_minor": 0,
  "metadata": {
    "colab": {
      "provenance": []
    },
    "kernelspec": {
      "name": "python3",
      "display_name": "Python 3"
    },
    "language_info": {
      "name": "python"
    }
  },
  "cells": [
    {
      "cell_type": "markdown",
      "source": [
        "#FILE HANDLING AND EXCEPTION\n"
      ],
      "metadata": {
        "id": "UJ4vafCP4Nxi"
      }
    },
    {
      "cell_type": "markdown",
      "source": [
        "OPENING AND READING A FILE"
      ],
      "metadata": {
        "id": "sRKxWXlt4WR3"
      }
    },
    {
      "cell_type": "code",
      "execution_count": 1,
      "metadata": {
        "colab": {
          "base_uri": "https://localhost:8080/"
        },
        "id": "du16yNdU3rBp",
        "outputId": "332cf9a0-2bb7-4619-c409-05b22a483083"
      },
      "outputs": [
        {
          "output_type": "stream",
          "name": "stdout",
          "text": [
            "i am student.\n",
            "i am student.\n",
            "i am student.\n"
          ]
        }
      ],
      "source": [
        "f= (\"file.txt\",\"r\")\n",
        "print(f.read())"
      ]
    },
    {
      "cell_type": "code",
      "source": [
        "f= open(\"file.txt\",\"r\")\n",
        "print(f.read(15))\n",
        "f.close()"
      ],
      "metadata": {
        "colab": {
          "base_uri": "https://localhost:8080/"
        },
        "id": "SNLn0Epe5hQs",
        "outputId": "710b3073-b055-4712-9f4f-9b4139cc5d5c"
      },
      "execution_count": 8,
      "outputs": [
        {
          "output_type": "stream",
          "name": "stdout",
          "text": [
            "i am student.\n",
            "i\n"
          ]
        }
      ]
    },
    {
      "cell_type": "code",
      "source": [
        "f=open(\"file.txt\",\"r\")\n",
        "print(f.readlines())\n",
        "f.close()"
      ],
      "metadata": {
        "id": "AdpBb-6m6-uc"
      },
      "execution_count": null,
      "outputs": []
    },
    {
      "cell_type": "markdown",
      "source": [
        "#WRITE MODE"
      ],
      "metadata": {
        "id": "jl76Pa_R7D7e"
      }
    },
    {
      "cell_type": "code",
      "source": [
        "f = open(\"file.txt\",\"w\")\n",
        "f.write(\"I am just wriien!\")\n",
        "f.close()"
      ],
      "metadata": {
        "id": "i5kMKxoT7JEF"
      },
      "execution_count": 9,
      "outputs": []
    },
    {
      "cell_type": "markdown",
      "source": [
        "#APPEND MODE"
      ],
      "metadata": {
        "id": "e_2UMQDn71tu"
      }
    },
    {
      "cell_type": "code",
      "source": [
        "f = open(\"file.txt\",\"a\")\n",
        "f.write(\"I am just append\")\n",
        "f.close()"
      ],
      "metadata": {
        "id": "c7hRWxum8NMh"
      },
      "execution_count": 11,
      "outputs": []
    },
    {
      "cell_type": "markdown",
      "source": [
        "#DELETING FILE AND FOLDERS"
      ],
      "metadata": {
        "id": "fKsPK-s28xtE"
      }
    },
    {
      "cell_type": "code",
      "source": [
        "import os\n",
        "os.remove(\"file.txt\")"
      ],
      "metadata": {
        "id": "jWUjsvF99Tuk"
      },
      "execution_count": 12,
      "outputs": []
    },
    {
      "cell_type": "code",
      "source": [
        "os.rmdir(\"/content/deleteme\")"
      ],
      "metadata": {
        "id": "2HWA6d_t9d9F"
      },
      "execution_count": 14,
      "outputs": []
    },
    {
      "cell_type": "markdown",
      "source": [
        "#BASIC EXCEPION HANDLING"
      ],
      "metadata": {
        "id": "gZUeYB6y9vcL"
      }
    },
    {
      "cell_type": "code",
      "source": [
        "with open(\"number.txt\",\"r\") as f:\n",
        "  try:\n",
        "    lines = f.readlines()\n",
        "    number = [int(line.strip()) for line in lines]\n",
        "    print(sum(number))\n",
        "  except ValueError:\n",
        "    print(\"value error\")"
      ],
      "metadata": {
        "id": "JVoxY0WRJofA"
      },
      "execution_count": null,
      "outputs": []
    }
  ]
}